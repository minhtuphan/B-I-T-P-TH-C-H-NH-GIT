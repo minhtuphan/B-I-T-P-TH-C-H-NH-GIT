{
 "cells": [
  {
   "cell_type": "code",
   "execution_count": 1,
   "id": "ed811fd8",
   "metadata": {},
   "outputs": [
    {
     "name": "stdout",
     "output_type": "stream",
     "text": [
      "Phan Thị Minh Tú, Đồng Tháp, Nhân Viên Văn Phòng\n"
     ]
    }
   ],
   "source": [
    "print(\"Phan Thị Minh Tú, Đồng Tháp, Nhân Viên Văn Phòng\")"
   ]
  },
  {
   "cell_type": "code",
   "execution_count": null,
   "id": "77dd8eb0",
   "metadata": {},
   "outputs": [],
   "source": []
  }
 ],
 "metadata": {
  "kernelspec": {
   "display_name": "Python 3 (ipykernel)",
   "language": "python",
   "name": "python3"
  },
  "language_info": {
   "codemirror_mode": {
    "name": "ipython",
    "version": 3
   },
   "file_extension": ".py",
   "mimetype": "text/x-python",
   "name": "python",
   "nbconvert_exporter": "python",
   "pygments_lexer": "ipython3",
   "version": "3.9.12"
  }
 },
 "nbformat": 4,
 "nbformat_minor": 5
}
